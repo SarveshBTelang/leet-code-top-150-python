{
 "cells": [
  {
   "cell_type": "markdown",
   "id": "f90d5a7a",
   "metadata": {},
   "source": [
    "658. Find K Closest Elements (Medium)\n",
    "\n",
    "Given a sorted integer array arr, two integers k and x, return the k closest integers to x in the array. The result should also be sorted in ascending order.\n",
    "\n",
    "An integer a is closer to x than an integer b if:\n",
    "\n",
    "|a - x| < |b - x|, or\n",
    "|a - x| == |b - x| and a < b\n",
    " \n",
    "\n",
    "Example 1:\n",
    "\n",
    "Input: arr = [1,2,3,4,5], k = 4, x = 3\n",
    "\n",
    "Output: [1,2,3,4]\n",
    "\n",
    "Example 2:\n",
    "\n",
    "Input: arr = [1,1,2,3,4,5], k = 4, x = -1\n",
    "\n",
    "Output: [1,1,2,3]\n",
    "\n",
    " \n",
    "\n",
    "Constraints:\n",
    "\n",
    "1 <= k <= arr.length\n",
    "1 <= arr.length <= 104\n",
    "arr is sorted in ascending order.\n",
    "-104 <= arr[i], x <= 104"
   ]
  },
  {
   "cell_type": "code",
   "execution_count": 1,
   "id": "7380f605",
   "metadata": {},
   "outputs": [],
   "source": [
    "class Solution:\n",
    "    def findClosestElements(self, arr: list[int], k: int, x: int) -> list[int]:\n",
    "        # Use binary search to find the starting position of k closest elements\n",
    "        left = 0\n",
    "        right = len(arr) - k\n",
    "      \n",
    "        # Binary search for the best window of size k\n",
    "        while left < right:\n",
    "            mid = (left + right) // 2\n",
    "\n",
    "            print(mid)\n",
    "          \n",
    "            # Compare distances: if x is closer to arr[mid + k], move left pointer\n",
    "            # Otherwise, move right pointer\n",
    "            if x - arr[mid] > arr[mid + k] - x:\n",
    "                left = mid + 1\n",
    "            else:\n",
    "                right = mid\n",
    "      \n",
    "        # Return k elements starting from the found position\n",
    "        return arr[left:left + k]"
   ]
  },
  {
   "cell_type": "code",
   "execution_count": 2,
   "id": "e5faf8c3",
   "metadata": {},
   "outputs": [
    {
     "name": "stdout",
     "output_type": "stream",
     "text": [
      "0\n",
      "[1, 2, 3, 4]\n"
     ]
    }
   ],
   "source": [
    "solve = Solution()\n",
    "\n",
    "# Test case\n",
    "arr = [1,2,3,4,5]\n",
    "k = 4\n",
    "x = 3\n",
    "\n",
    "output = solve.findClosestElements(arr, k, x)\n",
    "print(output)"
   ]
  },
  {
   "cell_type": "code",
   "execution_count": 3,
   "id": "49c99c3b",
   "metadata": {},
   "outputs": [
    {
     "name": "stdout",
     "output_type": "stream",
     "text": [
      "0\n"
     ]
    }
   ],
   "source": [
    "x =0\n",
    "y=1\n",
    "\n",
    "mid = (x + y) // 2\n",
    "print(mid)"
   ]
  },
  {
   "cell_type": "code",
   "execution_count": null,
   "id": "025295a6",
   "metadata": {},
   "outputs": [],
   "source": []
  }
 ],
 "metadata": {
  "kernelspec": {
   "display_name": "base",
   "language": "python",
   "name": "python3"
  },
  "language_info": {
   "codemirror_mode": {
    "name": "ipython",
    "version": 3
   },
   "file_extension": ".py",
   "mimetype": "text/x-python",
   "name": "python",
   "nbconvert_exporter": "python",
   "pygments_lexer": "ipython3",
   "version": "3.11.4"
  }
 },
 "nbformat": 4,
 "nbformat_minor": 5
}
