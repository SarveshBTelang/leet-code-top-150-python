{
 "cells": [
  {
   "cell_type": "markdown",
   "id": "b936b1c7",
   "metadata": {},
   "source": [
    "#### 795. Number of Subarrays with Bounded Maximum\n",
    "\n",
    "Given an integer array nums and two integers left and right, return the number of contiguous non-empty subarrays such that the value of the maximum array element in that subarray is in the range [left, right].\n",
    "\n",
    "The test cases are generated so that the answer will fit in a 32-bit integer.\n",
    "\n",
    " \n",
    "Example 1:\n",
    "\n",
    "Input: nums = [2,1,4,3], left = 2, right = 3\n",
    "Output: 3\n",
    "Explanation: There are three subarrays that meet the requirements: [2], [2, 1], [3].\n",
    "Example 2:\n",
    "\n",
    "Input: nums = [2,9,2,5,6], left = 2, right = 8\n",
    "Output: 7\n",
    " \n",
    "\n",
    "Constraints:\n",
    "\n",
    "1 <= nums.length <= 105\n",
    "0 <= nums[i] <= 109\n",
    "0 <= left <= right <= 109"
   ]
  },
  {
   "cell_type": "code",
   "execution_count": 42,
   "id": "8d992bdd",
   "metadata": {},
   "outputs": [],
   "source": [
    "class Solution:\n",
    "    def numSubarrayBoundedMax(self, nums: list[int], left: int, right: int) -> int:\n",
    "\n",
    "        \"\"\"\n",
    "        The key insight is recognizing that finding subarrays with maximum in range [left, right] is equivalent to finding subarrays with maximum ≤ right \n",
    "            \n",
    "        and then removing those with maximum ≤ left - 1.\n",
    "\n",
    "        Think about it this way: if we want numbers in the range [left, right], we can:\n",
    "\n",
    "            1. First find all subarrays where max ≤ right\n",
    "            2. Then subtract all subarrays where max ≤ left - 1\n",
    "            3. What remains are subarrays where left ≤ max ≤ right\n",
    "            \n",
    "        This transforms our problem into a simpler one: \n",
    "            \n",
    "        \"Count subarrays where the maximum element is at most x\".\n",
    "\n",
    "        i.e creating separate function and running that over \"right\" and \"left - 1\"\n",
    "\n",
    "        f(right) - f(left -1)\n",
    "\n",
    "        \"\"\"\n",
    "\n",
    "        def f(maximum):\n",
    "            \"\"\"\n",
    "            Count the number of subarrays where all elements are <= maximum.\n",
    "            \"\"\"\n",
    "            total_count = 0\n",
    "            consecutive_valid_elements = 0\n",
    "          \n",
    "            for value in nums:\n",
    "                if value > maximum:\n",
    "                    # Reset the count when we encounter an element > maximum\n",
    "                    consecutive_valid_elements = 0\n",
    "                else:\n",
    "                    # Increment the count of consecutive valid elements\n",
    "                    consecutive_valid_elements += 1\n",
    "              \n",
    "                # Add the number of subarrays ending at current position\n",
    "                total_count += consecutive_valid_elements\n",
    "          \n",
    "            return total_count\n",
    "      \n",
    "        # Calculate subarrays with max in range [left, right] by: subarrays with max <= right - subarrays with max <= (left - 1) \n",
    "        return f(right) - f(left - 1)"
   ]
  },
  {
   "cell_type": "code",
   "execution_count": 43,
   "id": "0dd0ab92",
   "metadata": {},
   "outputs": [
    {
     "name": "stdout",
     "output_type": "stream",
     "text": [
      "7\n"
     ]
    }
   ],
   "source": [
    "solve = Solution()\n",
    "\n",
    "# Test case\n",
    "nums = [2,9,2,5,6]\n",
    "left = 2\n",
    "right = 8\n",
    "\n",
    "output = solve.numSubarrayBoundedMax(nums, left, right)\n",
    "print(output)"
   ]
  },
  {
   "cell_type": "code",
   "execution_count": null,
   "id": "0b582ac8",
   "metadata": {},
   "outputs": [],
   "source": []
  }
 ],
 "metadata": {
  "kernelspec": {
   "display_name": "base",
   "language": "python",
   "name": "python3"
  },
  "language_info": {
   "codemirror_mode": {
    "name": "ipython",
    "version": 3
   },
   "file_extension": ".py",
   "mimetype": "text/x-python",
   "name": "python",
   "nbconvert_exporter": "python",
   "pygments_lexer": "ipython3",
   "version": "3.11.4"
  }
 },
 "nbformat": 4,
 "nbformat_minor": 5
}
