{
 "cells": [
  {
   "cell_type": "markdown",
   "id": "73f4b2d2",
   "metadata": {},
   "source": [
    "#### 777. Swap Adjacent in LR String\n",
    "\n",
    "In a string composed of 'L', 'R', and 'X' characters, like \"RXXLRXRXL\", a move consists of either replacing one occurrence of \"XL\" with \"LX\", or replacing one occurrence of \"RX\" with \"XR\". Given the starting string start and the ending string result, return True if and only if there exists a sequence of moves to transform start to result.\n",
    "\n",
    " \n",
    "\n",
    "Example 1:\n",
    "\n",
    "Input: start = \"RXXLRXRXL\", result = \"XRLXXRRLX\"\n",
    "Output: true\n",
    "Explanation: We can transform start to result following these steps:\n",
    "RXXLRXRXL ->\n",
    "XRXLRXRXL ->\n",
    "XRLXRXRXL ->\n",
    "XRLXXRRXL ->\n",
    "XRLXXRRLX\n",
    "Example 2:\n",
    "\n",
    "Input: start = \"X\", result = \"L\"\n",
    "Output: false\n",
    " \n",
    "\n",
    "Constraints:\n",
    "\n",
    "1 <= start.length <= 104\n",
    "start.length == result.length\n",
    "Both start and result will only consist of characters in 'L', 'R', and 'X'."
   ]
  },
  {
   "cell_type": "code",
   "execution_count": 1,
   "id": "ecea3bd8",
   "metadata": {},
   "outputs": [],
   "source": [
    "class Solution:\n",
    "    def canTransform(self, start: str, result: str) -> bool:\n",
    "        n = len(start)\n",
    "        i = 0  # Pointer for start string\n",
    "        j = 0  # Pointer for result string\n",
    "      \n",
    "        while True:\n",
    "            # Skip all 'X' characters in start string\n",
    "            while i < n and start[i] == 'X':\n",
    "                i += 1\n",
    "          \n",
    "            # Skip all 'X' characters in result string\n",
    "            while j < n and result[j] == 'X':\n",
    "                j += 1\n",
    "          \n",
    "            # Both pointers reached the result - transformation successful\n",
    "            if i >= n and j >= n:\n",
    "                return True\n",
    "          \n",
    "            # One pointer reached the result but not the other - transformation impossible\n",
    "            # Or the non-X characters don't match\n",
    "            if i >= n or j >= n or start[i] != result[j]:\n",
    "                return False\n",
    "          \n",
    "            # 'L' can only move left, so its position in start must be >= its position in result\n",
    "            if start[i] == 'L' and i < j:\n",
    "                return False\n",
    "          \n",
    "            # 'R' can only move right, so its position in start must be <= its position in result\n",
    "            if start[i] == 'R' and i > j:\n",
    "                return False\n",
    "          \n",
    "            # Move both pointers forward\n",
    "            i += 1\n",
    "            j += 1"
   ]
  },
  {
   "cell_type": "code",
   "execution_count": 2,
   "id": "4cb05099",
   "metadata": {},
   "outputs": [
    {
     "name": "stdout",
     "output_type": "stream",
     "text": [
      "True\n"
     ]
    }
   ],
   "source": [
    "solve = Solution()\n",
    "\n",
    "# Test case\n",
    "start = \"RXXLRXRXL\"\n",
    "result = \"XRLXXRRLX\"\n",
    "\n",
    "output = solve.canTransform(start, result)\n",
    "print(output)"
   ]
  },
  {
   "cell_type": "code",
   "execution_count": null,
   "id": "5435781a",
   "metadata": {},
   "outputs": [],
   "source": []
  }
 ],
 "metadata": {
  "kernelspec": {
   "display_name": "base",
   "language": "python",
   "name": "python3"
  },
  "language_info": {
   "codemirror_mode": {
    "name": "ipython",
    "version": 3
   },
   "file_extension": ".py",
   "mimetype": "text/x-python",
   "name": "python",
   "nbconvert_exporter": "python",
   "pygments_lexer": "ipython3",
   "version": "3.11.4"
  }
 },
 "nbformat": 4,
 "nbformat_minor": 5
}
