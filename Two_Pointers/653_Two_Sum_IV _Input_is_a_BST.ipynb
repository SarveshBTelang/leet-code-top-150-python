{
 "cells": [
  {
   "cell_type": "markdown",
   "id": "ee35182f",
   "metadata": {},
   "source": [
    "Given the root of a binary search tree and an integer k, return true if there exist two elements in the BST such that their sum is equal to k, or false otherwise.\n",
    "\n",
    "Example 1:\n",
    "\n",
    "Input: root = [5,3,6,2,4,null,7], k = 9\n",
    "Output: true\n",
    "Example 2:\n",
    "\n",
    "Input: root = [5,3,6,2,4,null,7], k = 28\n",
    "Output: false\n",
    "\n",
    "Constraints:\n",
    "\n",
    "The number of nodes in the tree is in the range [1, 104].\n",
    "-104 <= Node.val <= 104\n",
    "root is guaranteed to be a valid binary search tree.\n",
    "-105 <= k <= 105"
   ]
  },
  {
   "cell_type": "code",
   "execution_count": null,
   "id": "45051bd3",
   "metadata": {},
   "outputs": [],
   "source": [
    "# Definition for a binary tree node.\n",
    "# class TreeNode:\n",
    "#     def __init__(self, val=0, left=None, right=None):\n",
    "#         self.val = val\n",
    "#         self.left = left\n",
    "#         self.right = right\n",
    "\n",
    "###################################################################################################################\n",
    "# Creating BST object from list\n",
    "# Ignore this part as its defined inbuilt in leetcode)\n",
    "\n",
    "from collections import deque\n",
    "\n",
    "# Definition for a binary tree node\n",
    "class TreeNode:\n",
    "    def __init__(self, val=0, left=None, right=None):\n",
    "        self.val = val\n",
    "        self.left = left\n",
    "        self.right = right\n",
    "\n",
    "class Solution:\n",
    "    def list_to_btree(self, lst):\n",
    "        if not lst:\n",
    "            return None\n",
    "        \n",
    "        root = TreeNode(lst[0])\n",
    "        queue = deque([root])\n",
    "        i = 1\n",
    "        \n",
    "        while queue and i < len(lst):\n",
    "            node = queue.popleft()\n",
    "            \n",
    "            # Left child\n",
    "            if i < len(lst) and lst[i] is not None:\n",
    "                node.left = TreeNode(lst[i])\n",
    "                queue.append(node.left)\n",
    "            i += 1\n",
    "            \n",
    "            # Right child\n",
    "            if i < len(lst) and lst[i] is not None:\n",
    "                node.right = TreeNode(lst[i])\n",
    "                queue.append(node.right)\n",
    "            i += 1\n",
    "        \n",
    "        return root\n",
    "\n",
    "###################################################################################################################\n",
    "\n",
    "# Method 1: Using Set\n",
    "\n",
    "    def findTarget(self, root, k: int) -> bool:\n",
    "        root = self.list_to_btree(root)\n",
    "        # x + y = k\n",
    "        # y = k - x\n",
    "        # check if y in set of values, if exists return true else add current value to the set\n",
    "\n",
    "        l = set()\n",
    "        def dfs(node):\n",
    "            if not node:\n",
    "                return False\n",
    "            y = k - node.val \n",
    "            if y in l:\n",
    "                return True\n",
    "            else:\n",
    "                l.add(node.val)\n",
    "            return dfs(node.left) or dfs(node.right) # Runs dfs function for both left and right values, returns true if one of them is true\n",
    "    \n",
    "        return dfs(root)\n",
    "\n",
    "# Method 2: Using inorder transversal and Two pointers approach\n",
    "\n",
    "    def inorder_traversal(self, root): # This function uses property of BST to convert it into sorted array\n",
    "        result = []\n",
    "        \n",
    "        def inorder(node):\n",
    "            if not node:\n",
    "                return\n",
    "            inorder(node.left)        # Left\n",
    "            result.append(node.val)   # Node\n",
    "            inorder(node.right)       # Right\n",
    "        \n",
    "        inorder(root)\n",
    "        return result\n",
    "\n",
    "    def findTarget2(self, root, k: int) -> bool:\n",
    "        root = self.list_to_btree(root)\n",
    "\n",
    "        sorted_arr = self.inorder_traversal(root)\n",
    "\n",
    "        left, right = 0, len(sorted_arr)-1\n",
    "\n",
    "        while left < right:\n",
    "            current_sum = sorted_arr[left] + sorted_arr[right]\n",
    "            if current_sum == k:\n",
    "                return True\n",
    "            elif current_sum < k:\n",
    "                left += 1\n",
    "            else:\n",
    "                right -= 1\n",
    "        \n",
    "        return False"
   ]
  },
  {
   "cell_type": "code",
   "execution_count": 14,
   "id": "752380c8",
   "metadata": {},
   "outputs": [
    {
     "name": "stdout",
     "output_type": "stream",
     "text": [
      "True\n"
     ]
    }
   ],
   "source": [
    "solve = Solution()\n",
    "\n",
    "# Test case\n",
    "# Example usage\n",
    "root = [5, 3, 6, 2, 4, None, 7]\n",
    "k = 11\n",
    "\n",
    "output = solve.findTarget(root, k)\n",
    "print(output)"
   ]
  },
  {
   "cell_type": "code",
   "execution_count": 16,
   "id": "d80cd0af",
   "metadata": {},
   "outputs": [
    {
     "name": "stdout",
     "output_type": "stream",
     "text": [
      "True\n"
     ]
    }
   ],
   "source": [
    "solve = Solution()\n",
    "\n",
    "# Test case\n",
    "# Example usage\n",
    "root = [5, 3, 6, 2, 4, None, 7]\n",
    "k = 11\n",
    "\n",
    "output = solve.findTarget2(root, k)\n",
    "print(output)"
   ]
  },
  {
   "cell_type": "code",
   "execution_count": null,
   "id": "0367eee6",
   "metadata": {},
   "outputs": [],
   "source": []
  }
 ],
 "metadata": {
  "kernelspec": {
   "display_name": "base",
   "language": "python",
   "name": "python3"
  },
  "language_info": {
   "codemirror_mode": {
    "name": "ipython",
    "version": 3
   },
   "file_extension": ".py",
   "mimetype": "text/x-python",
   "name": "python",
   "nbconvert_exporter": "python",
   "pygments_lexer": "ipython3",
   "version": "3.11.4"
  }
 },
 "nbformat": 4,
 "nbformat_minor": 5
}
