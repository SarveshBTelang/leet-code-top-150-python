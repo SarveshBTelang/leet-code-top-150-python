{
 "cells": [
  {
   "cell_type": "markdown",
   "id": "38c3b507",
   "metadata": {},
   "source": [
    "Given a fixed-length integer array arr, duplicate each occurrence of zero, shifting the remaining elements to the right.\n",
    "\n",
    "Note that elements beyond the length of the original array are not written. Do the above modifications to the input array in place and do not return anything.\n",
    "\n",
    " \n",
    "\n",
    "Example 1:\n",
    "\n",
    "Input: arr = [1,0,2,3,0,4,5,0]\n",
    "Output: [1,0,0,2,3,0,0,4]\n",
    "Explanation: After calling your function, the input array is modified to: [1,0,0,2,3,0,0,4]\n",
    "Example 2:\n",
    "\n",
    "Input: arr = [1,2,3]\n",
    "Output: [1,2,3]\n",
    "Explanation: After calling your function, the input array is modified to: [1,2,3]\n",
    " \n",
    "\n",
    "Constraints:\n",
    "\n",
    "1 <= arr.length <= 104\n",
    "0 <= arr[i] <= 9"
   ]
  },
  {
   "cell_type": "code",
   "execution_count": 57,
   "id": "4753883b",
   "metadata": {},
   "outputs": [],
   "source": [
    "class Solution:\n",
    "    def duplicateZeros(self, arr: list[int]) -> None:\n",
    "        \"\"\"\n",
    "        Do not return anything, modify arr in-place instead.\n",
    "        \"\"\"\n",
    "\n",
    "        # Count Zeros\n",
    "        count = 0\n",
    "        for i in arr:\n",
    "            if i == 0:\n",
    "                count +=1\n",
    "        \n",
    "        i = 0\n",
    "        n = len(arr)\n",
    "        right = n - 1 + count\n",
    "        left = n - 1\n",
    "\n",
    "        arr += [0] * count\n",
    "\n",
    "        for i in range(n):\n",
    "            print(right)\n",
    "            print(left)\n",
    "            if arr[left] == 0:\n",
    "                arr[right] = 0\n",
    "                right -=1\n",
    "                arr[right] = 0\n",
    "                right -=1\n",
    "            else:\n",
    "                arr[right] = arr[left]\n",
    "                right -=1\n",
    "            left -=1\n",
    "            print(arr)\n",
    "        \n",
    "        if count != 0:\n",
    "            arr[:] = arr[:-count]\n",
    "        \n",
    "        print(\"Output:\", arr)"
   ]
  },
  {
   "cell_type": "code",
   "execution_count": 58,
   "id": "13361579",
   "metadata": {},
   "outputs": [
    {
     "name": "stdout",
     "output_type": "stream",
     "text": [
      "10\n",
      "7\n",
      "[1, 0, 2, 3, 0, 4, 5, 0, 0, 0, 0]\n",
      "8\n",
      "6\n",
      "[1, 0, 2, 3, 0, 4, 5, 0, 5, 0, 0]\n",
      "7\n",
      "5\n",
      "[1, 0, 2, 3, 0, 4, 5, 4, 5, 0, 0]\n",
      "6\n",
      "4\n",
      "[1, 0, 2, 3, 0, 0, 0, 4, 5, 0, 0]\n",
      "4\n",
      "3\n",
      "[1, 0, 2, 3, 3, 0, 0, 4, 5, 0, 0]\n",
      "3\n",
      "2\n",
      "[1, 0, 2, 2, 3, 0, 0, 4, 5, 0, 0]\n",
      "2\n",
      "1\n",
      "[1, 0, 0, 2, 3, 0, 0, 4, 5, 0, 0]\n",
      "0\n",
      "0\n",
      "[1, 0, 0, 2, 3, 0, 0, 4, 5, 0, 0]\n",
      "Output: [1, 0, 0, 2, 3, 0, 0, 4]\n"
     ]
    }
   ],
   "source": [
    "solve = Solution()\n",
    "\n",
    "arr = [1,0,2,3,0,4,5,0]\n",
    "\n",
    "output = solve.duplicateZeros(arr)"
   ]
  },
  {
   "cell_type": "code",
   "execution_count": null,
   "id": "c104bdec",
   "metadata": {},
   "outputs": [],
   "source": []
  }
 ],
 "metadata": {
  "kernelspec": {
   "display_name": "base",
   "language": "python",
   "name": "python3"
  },
  "language_info": {
   "codemirror_mode": {
    "name": "ipython",
    "version": 3
   },
   "file_extension": ".py",
   "mimetype": "text/x-python",
   "name": "python",
   "nbconvert_exporter": "python",
   "pygments_lexer": "ipython3",
   "version": "3.11.4"
  }
 },
 "nbformat": 4,
 "nbformat_minor": 5
}
