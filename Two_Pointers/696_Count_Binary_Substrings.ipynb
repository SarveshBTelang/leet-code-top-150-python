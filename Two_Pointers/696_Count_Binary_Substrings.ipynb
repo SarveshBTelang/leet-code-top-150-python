{
 "cells": [
  {
   "cell_type": "markdown",
   "id": "8ea26377",
   "metadata": {},
   "source": [
    "#### 696. Count Binary Substrings\n",
    "\n",
    "Given a binary string s, return the number of non-empty substrings that have the same number of 0's and 1's, and all the 0's and all the 1's in these substrings are grouped consecutively.\n",
    "\n",
    "Substrings that occur multiple times are counted the number of times they occur.\n",
    "\n",
    "Example 1:\n",
    "\n",
    "Input: s = \"00110011\"\n",
    "Output: 6\n",
    "Explanation: There are 6 substrings that have equal number of consecutive 1's and 0's: \"0011\", \"01\", \"1100\", \"10\", \"0011\", and \"01\".\n",
    "Notice that some of these substrings repeat and are counted the number of times they occur.\n",
    "Also, \"00110011\" is not a valid substring because all the 0's (and 1's) are not grouped together.\n",
    "Example 2:\n",
    "\n",
    "Input: s = \"10101\"\n",
    "Output: 4\n",
    "Explanation: There are 4 substrings: \"10\", \"01\", \"10\", \"01\" that have equal number of consecutive 1's and 0's."
   ]
  },
  {
   "cell_type": "code",
   "execution_count": null,
   "id": "8e77e3a9",
   "metadata": {},
   "outputs": [],
   "source": [
    "class Solution:\n",
    "    def countBinarySubstrings(self, s: str) -> int:\n",
    "        index = 0\n",
    "        length = len(s)\n",
    "        \n",
    "        # Solution:\n",
    "        # Store counts of consecutive 0's and 1's i.e for e.g 000110111 --> [3, 2, 1, 3]\n",
    "        # Then add minimum of adjacent counts i.e min(3,2) + min(2,1) + min(1,3) = 4 --> (because every adjacnet group can form pairs with minimum number of 0s/1s \n",
    "        # for e.g 00011 can only form 2 pairs \"01\" and \"0011\" as 1 exist 2 times)\n",
    "        \n",
    "        group_counts = []\n",
    "      \n",
    "        while index < length:\n",
    "            current_count = 1\n",
    "          \n",
    "            while index + 1 < length and s[index + 1] == s[index]:\n",
    "                current_count += 1\n",
    "                index += 1\n",
    "          \n",
    "            # Add the count to our list\n",
    "            group_counts.append(current_count)\n",
    "            index += 1\n",
    "      \n",
    "        # Calculate result by taking minimum of adjacent groups\n",
    "        result = 0\n",
    "\n",
    "        # Using \"for\" loop for looping through adjacent elements in array\n",
    "        for i in range(1, len(group_counts)):\n",
    "            result += min(group_counts[i - 1], group_counts[i])\n",
    "      \n",
    "        return result"
   ]
  },
  {
   "cell_type": "code",
   "execution_count": 3,
   "id": "776d0040",
   "metadata": {},
   "outputs": [
    {
     "name": "stdout",
     "output_type": "stream",
     "text": [
      "4\n"
     ]
    }
   ],
   "source": [
    "solve = Solution()\n",
    "\n",
    "# Test case\n",
    "s = \"000110111\"\n",
    "\n",
    "output = solve.countBinarySubstrings(s)\n",
    "print(output)"
   ]
  },
  {
   "cell_type": "code",
   "execution_count": null,
   "id": "537cae72",
   "metadata": {},
   "outputs": [],
   "source": []
  }
 ],
 "metadata": {
  "kernelspec": {
   "display_name": "base",
   "language": "python",
   "name": "python3"
  },
  "language_info": {
   "codemirror_mode": {
    "name": "ipython",
    "version": 3
   },
   "file_extension": ".py",
   "mimetype": "text/x-python",
   "name": "python",
   "nbconvert_exporter": "python",
   "pygments_lexer": "ipython3",
   "version": "3.11.4"
  }
 },
 "nbformat": 4,
 "nbformat_minor": 5
}
