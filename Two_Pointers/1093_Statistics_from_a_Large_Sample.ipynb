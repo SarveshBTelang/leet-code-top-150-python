{
 "cells": [
  {
   "cell_type": "markdown",
   "id": "9ff9872c",
   "metadata": {},
   "source": [
    "#### 1093. Statistics from a Large Sample\n",
    "\n",
    "You are given a large sample of integers in the range [0, 255]. Since the sample is so large, it is represented by an array count where count[k] is the number of times that k appears in the sample.\n",
    "\n",
    "Calculate the following statistics:\n",
    "\n",
    "minimum: The minimum element in the sample.\n",
    "maximum: The maximum element in the sample.\n",
    "mean: The average of the sample, calculated as the total sum of all elements divided by the total number of elements.\n",
    "median:\n",
    "If the sample has an odd number of elements, then the median is the middle element once the sample is sorted.\n",
    "If the sample has an even number of elements, then the median is the average of the two middle elements once the sample is sorted.\n",
    "mode: The number that appears the most in the sample. It is guaranteed to be unique.\n",
    "Return the statistics of the sample as an array of floating-point numbers [minimum, maximum, mean, median, mode]. Answers within 10-5 of the actual answer will be accepted.\n",
    "\n",
    " \n",
    "\n",
    "Example 1:\n",
    "\n",
    "Input: count = [0,1,3,4,0,0,0,0,0,0,0,0,0,0,0,0,0,0,0,0,0,0,0,0,0,0,0,0,0,0,0,0,0,0,0,0,0,0,0,0,0,0,0,0,0,0,0,0,0,0,0,0,0,0,0,0,0,0,0,0,0,0,0,0,0,0,0,0,0,0,0,0,0,0,0,0,0,0,0,0,0,0,0,0,0,0,0,0,0,0,0,0,0,0,0,0,0,0,0,0,0,0,0,0,0,0,0,0,0,0,0,0,0,0,0,0,0,0,0,0,0,0,0,0,0,0,0,0,0,0,0,0,0,0,0,0,0,0,0,0,0,0,0,0,0,0,0,0,0,0,0,0,0,0,0,0,0,0,0,0,0,0,0,0,0,0,0,0,0,0,0,0,0,0,0,0,0,0,0,0,0,0,0,0,0,0,0,0,0,0,0,0,0,0,0,0,0,0,0,0,0,0,0,0,0,0,0,0,0,0,0,0,0,0,0,0,0,0,0,0,0,0,0,0,0,0,0,0,0,0,0,0,0,0,0,0,0,0,0,0,0,0,0,0,0,0,0,0,0,0,0,0,0,0,0,0]\n",
    "Output: [1.00000,3.00000,2.37500,2.50000,3.00000]\n",
    "Explanation: The sample represented by count is [1,2,2,2,3,3,3,3].\n",
    "The minimum and maximum are 1 and 3 respectively.\n",
    "The mean is (1+2+2+2+3+3+3+3) / 8 = 19 / 8 = 2.375.\n",
    "Since the size of the sample is even, the median is the average of the two middle elements 2 and 3, which is 2.5.\n",
    "The mode is 3 as it appears the most in the sample.\n",
    "Example 2:\n",
    "\n",
    "Input: count = [0,4,3,2,2,0,0,0,0,0,0,0,0,0,0,0,0,0,0,0,0,0,0,0,0,0,0,0,0,0,0,0,0,0,0,0,0,0,0,0,0,0,0,0,0,0,0,0,0,0,0,0,0,0,0,0,0,0,0,0,0,0,0,0,0,0,0,0,0,0,0,0,0,0,0,0,0,0,0,0,0,0,0,0,0,0,0,0,0,0,0,0,0,0,0,0,0,0,0,0,0,0,0,0,0,0,0,0,0,0,0,0,0,0,0,0,0,0,0,0,0,0,0,0,0,0,0,0,0,0,0,0,0,0,0,0,0,0,0,0,0,0,0,0,0,0,0,0,0,0,0,0,0,0,0,0,0,0,0,0,0,0,0,0,0,0,0,0,0,0,0,0,0,0,0,0,0,0,0,0,0,0,0,0,0,0,0,0,0,0,0,0,0,0,0,0,0,0,0,0,0,0,0,0,0,0,0,0,0,0,0,0,0,0,0,0,0,0,0,0,0,0,0,0,0,0,0,0,0,0,0,0,0,0,0,0,0,0,0,0,0,0,0,0,0,0,0,0,0,0,0,0,0,0,0,0]\n",
    "Output: [1.00000,4.00000,2.18182,2.00000,1.00000]\n",
    "Explanation: The sample represented by count is [1,1,1,1,2,2,2,3,3,4,4].\n",
    "The minimum and maximum are 1 and 4 respectively.\n",
    "The mean is (1+1+1+1+2+2+2+3+3+4+4) / 11 = 24 / 11 = 2.18181818... (for display purposes, the output shows the rounded number 2.18182).\n",
    "Since the size of the sample is odd, the median is the middle element 2.\n",
    "The mode is 1 as it appears the most in the sample."
   ]
  },
  {
   "cell_type": "code",
   "execution_count": null,
   "id": "8bd7be07",
   "metadata": {},
   "outputs": [],
   "source": [
    "class Solution:\n",
    "    def sampleStats(self, count: list[int]) -> list[float]:\n",
    "\n",
    "        def find_kth_element(k: int) -> int:\n",
    "            \"\"\"\n",
    "            Find the k-th smallest element (1-indexed) in the frequency array.\n",
    "            k: The position to find (1-indexed)\n",
    "            Returns: The value at the k-th position\n",
    "            \"\"\"\n",
    "            cumulative_count = 0\n",
    "            for value, frequency in enumerate(count):\n",
    "                cumulative_count += frequency\n",
    "                if cumulative_count >= k:\n",
    "                    return value\n",
    "      \n",
    "        # Initialize statistics variables\n",
    "        minimum_value = float('inf')\n",
    "        maximum_value = -1\n",
    "        total_sum = 0\n",
    "        total_count = 0\n",
    "        mode_value = 0\n",
    "      \n",
    "        # Single pass to calculate min, max, sum, count, and mode\n",
    "        for value, frequency in enumerate(count):\n",
    "            if frequency > 0:\n",
    "                # Update minimum and maximum\n",
    "                minimum_value = min(minimum_value, value)\n",
    "                maximum_value = max(maximum_value, value)\n",
    "              \n",
    "                # Update sum and count for mean calculation\n",
    "                total_sum += value * frequency\n",
    "                total_count += frequency\n",
    "              \n",
    "                # Update mode if current frequency is higher\n",
    "                if frequency > count[mode_value]:\n",
    "                    mode_value = value\n",
    "      \n",
    "        # Calculate median based on whether total count is odd or even\n",
    "        if total_count & 1:  # Odd number of elements\n",
    "            median = find_kth_element(total_count // 2 + 1)\n",
    "        else:  # Even number of elements\n",
    "            median = (find_kth_element(total_count // 2) + \n",
    "                     find_kth_element(total_count // 2 + 1)) / 2.0\n",
    "      \n",
    "        # Calculate mean\n",
    "        mean = total_sum / total_count\n",
    "      \n",
    "        # Return all statistics as floats\n",
    "        return [float(minimum_value), float(maximum_value), mean, median, float(mode_value)]"
   ]
  },
  {
   "cell_type": "code",
   "execution_count": 17,
   "id": "0b1fd997",
   "metadata": {},
   "outputs": [
    {
     "name": "stdout",
     "output_type": "stream",
     "text": [
      "[1.0, 3.0, 2.375, 2.5, 3.0]\n"
     ]
    }
   ],
   "source": [
    "solve = Solution()\n",
    "\n",
    "# Test case\n",
    "count = [0,1,3,4,0,0,0,0,0,0,0,0,0,0,0,0,0,0,0,0,0,0,0,0,0,0,0,0,0,0,0,0,0,0,0,0,0,0,0,0,0,0,0,0,0,0,0,0,0,0,0,0,0,0,0,0,0,0,0,0,0,0,0,0,0,0,0,0,0,0,0,0,0,0,0,0,0,0,0,0,0,0,0,0,0,0,0,0,0,0,0,0,0,0,0,0,0,0,0,0,0,0,0,0,0,0,0,0,0,0,0,0,0,0,0,0,0,0,0,0,0,0,0,0,0,0,0,0,0,0,0,0,0,0,0,0,0,0,0,0,0,0,0,0,0,0,0,0,0,0,0,0,0,0,0,0,0,0,0,0,0,0,0,0,0,0,0,0,0,0,0,0,0,0,0,0,0,0,0,0,0,0,0,0,0,0,0,0,0,0,0,0,0,0,0,0,0,0,0,0,0,0,0,0,0,0,0,0,0,0,0,0,0,0,0,0,0,0,0,0,0,0,0,0,0,0,0,0,0,0,0,0,0,0,0,0,0,0,0,0,0,0,0,0,0,0,0,0,0,0,0,0,0,0,0,0]\n",
    "\n",
    "output = solve.sampleStats(count)\n",
    "print(output)"
   ]
  },
  {
   "cell_type": "code",
   "execution_count": null,
   "id": "b48a7765",
   "metadata": {},
   "outputs": [],
   "source": []
  }
 ],
 "metadata": {
  "kernelspec": {
   "display_name": "base",
   "language": "python",
   "name": "python3"
  },
  "language_info": {
   "codemirror_mode": {
    "name": "ipython",
    "version": 3
   },
   "file_extension": ".py",
   "mimetype": "text/x-python",
   "name": "python",
   "nbconvert_exporter": "python",
   "pygments_lexer": "ipython3",
   "version": "3.11.4"
  }
 },
 "nbformat": 4,
 "nbformat_minor": 5
}
