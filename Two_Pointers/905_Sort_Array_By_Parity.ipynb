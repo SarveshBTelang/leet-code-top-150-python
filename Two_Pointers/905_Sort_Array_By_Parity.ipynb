{
 "cells": [
  {
   "cell_type": "markdown",
   "id": "1bbc1129",
   "metadata": {},
   "source": [
    "#### 905. Sort Array By Parity\n",
    "\n",
    "Given an integer array nums, move all the even integers at the beginning of the array followed by all the odd integers.\n",
    "\n",
    "Return any array that satisfies this condition.\n",
    "\n",
    "Example 1:\n",
    "\n",
    "Input: nums = [3,1,2,4]\n",
    "Output: [2,4,3,1]\n",
    "Explanation: The outputs [4,2,3,1], [2,4,1,3], and [4,2,1,3] would also be accepted.\n",
    "Example 2:\n",
    "\n",
    "Input: nums = [0]\n",
    "Output: [0]\n",
    " \n",
    "\n",
    "Constraints:\n",
    "\n",
    "1 <= nums.length <= 5000\n",
    "0 <= nums[i] <= 5000"
   ]
  },
  {
   "cell_type": "code",
   "execution_count": null,
   "id": "72efe3ea",
   "metadata": {},
   "outputs": [],
   "source": [
    "class Solution:\n",
    "    def sortArrayByParity(self, nums: list[int]) -> list[int]:\n",
    "        l, r = 0, len(nums)-1\n",
    "    \n",
    "        while l < r :\n",
    "            if nums[l] % 2 : # returns true if odd value\n",
    "                nums[l],nums[r] = nums[r],nums[l]\n",
    "                r -= 1 # if odd value then decerement r\n",
    "            else :\n",
    "                l += 1 # if even value then move forward with l\n",
    "        \n",
    "        return nums"
   ]
  },
  {
   "cell_type": "code",
   "execution_count": 12,
   "id": "8ac04962",
   "metadata": {},
   "outputs": [
    {
     "name": "stdout",
     "output_type": "stream",
     "text": [
      "[4, 2, 1, 3]\n"
     ]
    }
   ],
   "source": [
    "solve = Solution()\n",
    "\n",
    "# Test case\n",
    "nums = [3,1,2,4]\n",
    "\n",
    "output = solve.sortArrayByParity(nums)\n",
    "print(output)"
   ]
  },
  {
   "cell_type": "code",
   "execution_count": null,
   "id": "c1695573",
   "metadata": {},
   "outputs": [],
   "source": [
    "# Slow solution with moving both l and r but easy to understand\n",
    "\n",
    "class Solution:\n",
    "    def sortArrayByParity1(self, nums: list[int]) -> list[int]:\n",
    "        l, r = 0, len(nums) - 1\n",
    "        while l < r:\n",
    "            if nums[r] % 2 == 0:\n",
    "                if nums[l] % 2 != 0:\n",
    "                    nums[l], nums[r] = nums[r], nums[l]\n",
    "                    l += 1\n",
    "                    r -= 1\n",
    "                else:\n",
    "                    l += 1\n",
    "            else:\n",
    "                r -= 1\n",
    "        return nums"
   ]
  },
  {
   "cell_type": "code",
   "execution_count": 20,
   "id": "b8f1432e",
   "metadata": {},
   "outputs": [
    {
     "name": "stdout",
     "output_type": "stream",
     "text": [
      "[4, 2, 1, 3]\n"
     ]
    }
   ],
   "source": [
    "solve = Solution()\n",
    "\n",
    "# Test case\n",
    "nums = [3,1,2,4]\n",
    "\n",
    "output = solve.sortArrayByParity1(nums)\n",
    "print(output)"
   ]
  },
  {
   "cell_type": "code",
   "execution_count": null,
   "id": "1d40974e",
   "metadata": {},
   "outputs": [],
   "source": []
  }
 ],
 "metadata": {
  "kernelspec": {
   "display_name": "base",
   "language": "python",
   "name": "python3"
  },
  "language_info": {
   "codemirror_mode": {
    "name": "ipython",
    "version": 3
   },
   "file_extension": ".py",
   "mimetype": "text/x-python",
   "name": "python",
   "nbconvert_exporter": "python",
   "pygments_lexer": "ipython3",
   "version": "3.11.4"
  }
 },
 "nbformat": 4,
 "nbformat_minor": 5
}
