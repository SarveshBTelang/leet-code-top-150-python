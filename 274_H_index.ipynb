{
 "cells": [
  {
   "cell_type": "markdown",
   "id": "74b476b7",
   "metadata": {},
   "source": [
    "## 274. H-index"
   ]
  },
  {
   "cell_type": "markdown",
   "id": "78002a4d",
   "metadata": {},
   "source": [
    "Given an array of integers citations where citations[i] is the number of citations a researcher received for their ith paper, return the researcher's h-index.\n",
    "\n",
    "According to the definition of h-index on Wikipedia: The h-index is defined as the maximum value of h such that the given researcher has published at least h papers that have each been cited at least h times.\n",
    "\n",
    " \n",
    "\n",
    "Example 1:\n",
    "\n",
    "Input: citations = [3,0,6,1,5]\n",
    "Output: 3\n",
    "Explanation: [3,0,6,1,5] means the researcher has 5 papers in total and each of them had received 3, 0, 6, 1, 5 citations respectively.\n",
    "Since the researcher has 3 papers with at least 3 citations each and the remaining two with no more than 3 citations each, their h-index is 3.\n",
    "Example 2:\n",
    "\n",
    "Input: citations = [1,3,1]\n",
    "Output: 1"
   ]
  },
  {
   "cell_type": "code",
   "execution_count": 1,
   "id": "0da30d47",
   "metadata": {},
   "outputs": [],
   "source": [
    "# Brute force solution\n",
    "\n",
    "class Solution:\n",
    "    def hIndex(self, citations: list[int]) -> int:\n",
    "        h = 0\n",
    "        h_index = 0\n",
    "        n = len(citations)\n",
    "\n",
    "        for h in range(1, n+1):\n",
    "            num_papers= 0\n",
    "            for p in range(n):\n",
    "                if citations[p] >= h:\n",
    "                    num_papers += 1\n",
    "            \n",
    "            if num_papers >= h:\n",
    "                h_index = h\n",
    "        \n",
    "        return h_index\n",
    "        # Time: O(n^2)\n",
    "        # Space: O(1)\n",
    "\n",
    "solve= Solution()"
   ]
  },
  {
   "cell_type": "code",
   "execution_count": null,
   "id": "2bea14f1",
   "metadata": {},
   "outputs": [],
   "source": [
    "# Greedy solution\n",
    "\n",
    "class Solution:\n",
    "    def hIndex(self, citations: list[int]) -> int:          # Form a counter array for indexes i.e [0 0 0 .. len(citations)+1] \n",
    "        counts = [0] * (len(citations) + 1)                 # +1 is added to length to account for value 0 i.e adding count for value 0 under 0th index\n",
    "        for item in citations:\n",
    "            if item >= len(citations):                      # if value is greater than last index, add count for it in last index only\n",
    "                counts[len(citations)] += 1\n",
    "            else:\n",
    "                counts[item] += 1\n",
    "        \n",
    "        print(\"citations:\", citations)\n",
    "        print(\"index:\", [p for p in range(len(citations)+1)])\n",
    "        print(\"counts:\", counts)\n",
    "        \n",
    "        total_citations = 0\n",
    "        for i in range(len(counts)-1, -1, -1):              # To count atleast amount for papers start counting in reverse and consider cumulative sum\n",
    "            total_citations += counts[i]\n",
    "            if total_citations >= i:                        # i equal to cumulative sum represent atleast i amount of citations for i th index i.e h-index\n",
    "                return i    \n",
    "        return 0\n",
    "        # Time: O(n)\n",
    "        # Space: O(n)\n",
    "\n",
    "solve= Solution()"
   ]
  },
  {
   "cell_type": "code",
   "execution_count": 8,
   "id": "d4d2a5f6",
   "metadata": {},
   "outputs": [
    {
     "name": "stdout",
     "output_type": "stream",
     "text": [
      "citations: [3, 0, 6, 1, 5]\n",
      "index: [0, 1, 2, 3, 4, 5]\n",
      "counts: [1, 1, 0, 1, 0, 2]\n"
     ]
    }
   ],
   "source": [
    "# Test case\n",
    "\n",
    "citations = [3,0,6,1,5]\n",
    "\n",
    "output= solve.hIndex(citations)"
   ]
  },
  {
   "cell_type": "code",
   "execution_count": 9,
   "id": "0f96a251",
   "metadata": {},
   "outputs": [
    {
     "name": "stdout",
     "output_type": "stream",
     "text": [
      "3\n"
     ]
    }
   ],
   "source": [
    "# Result\n",
    "\n",
    "#print(output)\n",
    "print(output)"
   ]
  },
  {
   "cell_type": "code",
   "execution_count": null,
   "id": "5ce6ed56",
   "metadata": {},
   "outputs": [],
   "source": []
  }
 ],
 "metadata": {
  "kernelspec": {
   "display_name": "base",
   "language": "python",
   "name": "python3"
  },
  "language_info": {
   "codemirror_mode": {
    "name": "ipython",
    "version": 3
   },
   "file_extension": ".py",
   "mimetype": "text/x-python",
   "name": "python",
   "nbconvert_exporter": "python",
   "pygments_lexer": "ipython3",
   "version": "3.11.4"
  }
 },
 "nbformat": 4,
 "nbformat_minor": 5
}
