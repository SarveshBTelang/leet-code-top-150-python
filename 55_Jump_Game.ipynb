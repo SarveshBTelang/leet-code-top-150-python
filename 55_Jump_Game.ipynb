{
 "cells": [
  {
   "cell_type": "markdown",
   "id": "74b476b7",
   "metadata": {},
   "source": [
    "## 55. Jump Game"
   ]
  },
  {
   "cell_type": "markdown",
   "id": "78002a4d",
   "metadata": {},
   "source": [
    "You are given an integer array nums. You are initially positioned at the array's first index, and each element in the array represents your maximum jump length at that position.\n",
    "\n",
    "Return true if you can reach the last index, or false otherwise.\n",
    "\n",
    " \n",
    "\n",
    "Example 1:\n",
    "\n",
    "Input: nums = [2,3,1,1,4]\n",
    "Output: true\n",
    "Explanation: Jump 1 step from index 0 to 1, then 3 steps to the last index.\n",
    "Example 2:\n",
    "\n",
    "Input: nums = [3,2,1,0,4]\n",
    "Output: false\n",
    "Explanation: You will always arrive at index 3 no matter what. Its maximum jump length is 0, which makes it impossible to reach the last index.\n",
    " \n",
    "\n",
    "Constraints:\n",
    "\n",
    "1 <= nums.length <= 104\n",
    "0 <= nums[i] <= 105"
   ]
  },
  {
   "cell_type": "code",
   "execution_count": 2,
   "id": "0da30d47",
   "metadata": {},
   "outputs": [],
   "source": [
    "class Solution:             \n",
    "    def canJump(self, nums: list[int]) -> bool:         # goal is to reach last index\n",
    "                                                        # Start from the last index and shift goal to left if the index is reachable\n",
    "        goal = len(nums)-1                              # Initial goal\n",
    "\n",
    "        for i in range(len(nums) -1, -1, -1):           # Decrement index from right\n",
    "            if i + nums[i] >= goal:                     # \"i + nums[i]\" represents jump by value\n",
    "                goal = i                                # if its greater or equal to current index shift the goal to the current index\n",
    "            print(goal)\n",
    "        \n",
    "        return True if goal==0 else False               # if goal becomes zero it reaches index 0\n",
    "        # Time = O(n)\n",
    "        # Space = O(1)\n",
    "\n",
    "solve= Solution()"
   ]
  },
  {
   "cell_type": "code",
   "execution_count": 3,
   "id": "d4d2a5f6",
   "metadata": {},
   "outputs": [
    {
     "name": "stdout",
     "output_type": "stream",
     "text": [
      "4\n",
      "3\n",
      "2\n",
      "1\n",
      "0\n"
     ]
    }
   ],
   "source": [
    "# Test case\n",
    "\n",
    "nums = [2,3,1,1,4]\n",
    "\n",
    "output= solve.canJump(nums)"
   ]
  },
  {
   "cell_type": "code",
   "execution_count": 8,
   "id": "0f96a251",
   "metadata": {},
   "outputs": [
    {
     "name": "stdout",
     "output_type": "stream",
     "text": [
      "True\n"
     ]
    }
   ],
   "source": [
    "# Result\n",
    "\n",
    "#print(output)\n",
    "print(output)"
   ]
  }
 ],
 "metadata": {
  "kernelspec": {
   "display_name": "base",
   "language": "python",
   "name": "python3"
  },
  "language_info": {
   "codemirror_mode": {
    "name": "ipython",
    "version": 3
   },
   "file_extension": ".py",
   "mimetype": "text/x-python",
   "name": "python",
   "nbconvert_exporter": "python",
   "pygments_lexer": "ipython3",
   "version": "3.11.4"
  }
 },
 "nbformat": 4,
 "nbformat_minor": 5
}
